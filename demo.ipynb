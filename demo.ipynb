{
 "cells": [
  {
   "cell_type": "code",
   "execution_count": 9,
   "id": "initial_id",
   "metadata": {
    "collapsed": true,
    "ExecuteTime": {
     "end_time": "2024-07-09T16:13:30.684511Z",
     "start_time": "2024-07-09T16:13:30.671551Z"
    }
   },
   "outputs": [],
   "source": [
    "from fisheye.unfish import FisheyeFlatten\n",
    "import numpy as np\n",
    "import argparse\n",
    "\n",
    "import cv2\n",
    "import torch\n",
    "from PIL import Image\n",
    "from supervision import VideoInfo\n",
    "from summarization.DSNet.src.kts.cpd_auto import cpd_auto\n",
    "from action_detection.yowov2.config import build_dataset_config, build_model_config\n",
    "from action_detection.yowov2.dataset.transforms import BaseTransform\n",
    "from action_detection.yowov2.models import build_model\n",
    "from action_detection.yowov2.utils.misc import load_weight\n",
    "from summarization.DSNet.src.helpers.video_helper import FeatureExtractor\n",
    "from summarization.DSNet.src.helpers import init_helper, vsumm_helper, bbox_helper\n",
    "from summarization.DSNet.src.modules.model_zoo import get_model"
   ]
  },
  {
   "cell_type": "code",
   "outputs": [],
   "source": [
    "parser = argparse.ArgumentParser(description='YOWOv2 Demo')\n",
    "\n",
    "parser.add_argument('-size', '--img_size', default=224, type=int,\n",
    "                    help='the size of input frame')\n",
    "parser.add_argument('--show', action='store_true', default=False,\n",
    "                    help='show the visulization results.')\n",
    "parser.add_argument('--cuda', action='store_true', default=False,\n",
    "                    help='use cuda.')\n",
    "parser.add_argument('--save_folder', default='det_results/', type=str,\n",
    "                    help='Dir to save results')\n",
    "parser.add_argument('-vs', '--vis_thresh', default=0.3, type=float,\n",
    "                    help='threshold for visualization')\n",
    "parser.add_argument('--video', default='9Y_l9NsnYE0.mp4', type=str,\n",
    "                    help='AVA video name.')\n",
    "parser.add_argument('--gif', action='store_true', default=False,\n",
    "                    help='generate gif.')\n",
    "\n",
    "parser.add_argument('-d', '--dataset', default='ava_v2.2',\n",
    "                    help='ava_v2.2')\n",
    "parser.add_argument('--pose', action='store_true', default=False,\n",
    "                    help='show 14 action pose of AVA.')\n",
    "\n",
    "\n",
    "parser.add_argument('-v', '--version', default='yowo_v2_large', type=str,\n",
    "                    help='build YOWOv2')\n",
    "parser.add_argument('--weight', default='checkpoints/yowo2/yowo_v2_large.pth',\n",
    "                    type=str, help='Trained state_dict file path to open')\n",
    "parser.add_argument('-ct', '--conf_thresh', default=0.1, type=float,\n",
    "                    help='confidence threshold')\n",
    "parser.add_argument('-nt', '--nms_thresh', default=0.5, type=float,\n",
    "                    help='NMS threshold')\n",
    "parser.add_argument('--topk', default=40, type=int,\n",
    "                    help='NMS threshold')\n",
    "parser.add_argument('-K', '--len_clip', default=16, type=int,\n",
    "                    help='video clip length.')\n",
    "parser.add_argument('-m', '--memory', action=\"store_true\", default=False,\n",
    "                    help=\"memory propagate.\")\n",
    "\n",
    "parser.add_argument('--deep_sort_weights', type=str,\n",
    "                    default='summarization/deep_sort_pytorch/deep_sort/deep/checkpoint/ckpt.t7',\n",
    "                    help='ckpt.t7 path')\n",
    "parser.add_argument('--source', type=str, default='0', help='source')\n",
    "\n",
    "parser.add_argument('--save-txt', action='store_true', help='save MOT compliant results to *.txt')\n",
    "\n",
    "parser.add_argument('--classes', nargs='+', type=int, help='filter by class: --class 0, or --class 16 17')\n",
    "\n",
    "parser.add_argument(\"--config_deepsort\", type=str, default=\"summarization/deep_sort_pytorch/configs/deep_sort.yaml\")\n",
    "\n",
    "def kts(n_frames, features, sample_rate):\n",
    "    seq_len = len(features)\n",
    "    picks = np.arange(0, seq_len) * sample_rate\n",
    "\n",
    "    kernel = np.matmul(features, features.T)\n",
    "    change_points, _ = cpd_auto(kernel, seq_len - 1, 1, verbose=False)\n",
    "    change_points *= sample_rate\n",
    "    change_points = np.hstack((0, change_points, n_frames))\n",
    "    begin_frames = change_points[:-1]\n",
    "    end_frames = change_points[1:]\n",
    "    change_points = np.vstack((begin_frames, end_frames - 1)).T\n",
    "\n",
    "    n_frame_per_seg = end_frames - begin_frames\n",
    "    return change_points, n_frame_per_seg, picks\n",
    "\n",
    "def multi_hot_vis(args, frame, out_bboxes, orig_w, orig_h, class_names, act_pose=False):\n",
    "    # visualize detection results\n",
    "    for bbox in out_bboxes:\n",
    "        x1, y1, x2, y2 = bbox[:4]\n",
    "\n",
    "        cls_conf = bbox[5:]\n",
    "\n",
    "        # rescale bbox\n",
    "        x1, x2 = int(x1 * orig_w), int(x2 * orig_w)\n",
    "        y1, y2 = int(y1 * orig_h), int(y2 * orig_h)\n",
    "\n",
    "        # score = obj * cls\n",
    "        det_conf = float(bbox[4])\n",
    "        cls_scores = np.sqrt(det_conf * cls_conf)\n",
    "\n",
    "        indices = np.where(cls_scores > args.vis_thresh)\n",
    "        scores = cls_scores[indices]\n",
    "        indices = list(indices[0])\n",
    "        scores = list(scores)\n",
    "\n",
    "        if len(scores) > 0:\n",
    "            cv2.rectangle(frame, (x1, y1), (x2, y2), (0, 255, 0), 2)\n",
    "            blk = np.zeros(frame.shape, np.uint8)\n",
    "            font = cv2.FONT_HERSHEY_SIMPLEX\n",
    "            coord = []\n",
    "            text = []\n",
    "            text_size = []\n",
    "\n",
    "            for _, cls_ind in enumerate(indices):\n",
    "                text.append(\"[{:.2f}] \".format(scores[_]) + str(class_names[cls_ind]))\n",
    "                text_size.append(cv2.getTextSize(text[-1], font, fontScale=0.5, thickness=1)[0])\n",
    "                coord.append((x1 + 3, y1 + 14 + 20 * _))\n",
    "                cv2.rectangle(blk, (coord[-1][0] - 1, coord[-1][1] - 12),\n",
    "                              (coord[-1][0] + text_size[-1][0] + 1, coord[-1][1] + text_size[-1][1] - 4), (0, 255, 0),\n",
    "                              cv2.FILLED)\n",
    "            frame = cv2.addWeighted(frame, 1.0, blk, 0.5, 1)\n",
    "            for t in range(len(text)):\n",
    "                cv2.putText(frame, text[t], coord[t], font, 0.5, (0, 0, 0), 1)\n",
    "\n",
    "    return frame\n",
    "\n"
   ],
   "metadata": {
    "collapsed": false,
    "ExecuteTime": {
     "end_time": "2024-07-09T16:13:30.746198Z",
     "start_time": "2024-07-09T16:13:30.708236Z"
    }
   },
   "id": "c38d84a8682ce09",
   "execution_count": 10
  },
  {
   "cell_type": "code",
   "outputs": [],
   "source": [
    "source = r\"test_videos/video6.mp4\""
   ],
   "metadata": {
    "collapsed": false,
    "ExecuteTime": {
     "end_time": "2024-07-09T16:13:30.761739Z",
     "start_time": "2024-07-09T16:13:30.748334Z"
    }
   },
   "id": "6bb11908dbd1d3c",
   "execution_count": 11
  },
  {
   "cell_type": "markdown",
   "source": [
    "Fisheye Rectification"
   ],
   "metadata": {
    "collapsed": false
   },
   "id": "f401b0781894f410"
  },
  {
   "cell_type": "code",
   "outputs": [],
   "source": [
    "camera_matrix = np.load('checkpoints/fisheye/camera_matrix.npy')\n",
    "dist_coeffs = np.load('checkpoints/fisheye/dist_coeffs.npy')\n",
    "\n",
    "width = 0\n",
    "height = 0\n",
    "i = 0\n",
    "vid_writer = None\n",
    "vid = cv2.VideoCapture(source)\n",
    "output_name = source.rsplit('/', 1)[0]\n",
    "frames_number = int(vid.get(cv2.CAP_PROP_FRAME_COUNT))\n",
    "frames_size = VideoInfo.from_video_path(source).resolution_wh\n",
    "rectification = FisheyeFlatten(frames_size, 1, camera_matrix, dist_coeffs)\n",
    "\n",
    "frame_list = []\n",
    "\n",
    "while True:\n",
    "    _, frame = vid.read()\n",
    "    i += 1\n",
    "    if frame is None:\n",
    "        break\n",
    "    f = rectification(frame)\n",
    "    frame_list.append(f)\n",
    "    if (width == 0) or (height == 0):\n",
    "        width = f.shape[1]\n",
    "        height = f.shape[0]\n",
    "    cv2.imshow(\"frame\", f)\n",
    "    cv2.waitKey(1)\n",
    "#         vid_writer = cv2.VideoWriter(f\"D:/results/{output_name}\", cv2.VideoWriter_fourcc(*\"mp4v\"), 25, (width, height))\n",
    "# \n",
    "#     vid_writer.write(f)\n",
    "# vid_writer.release()\n",
    "# destroyAllWindows()"
   ],
   "metadata": {
    "collapsed": false,
    "ExecuteTime": {
     "end_time": "2024-07-09T16:16:52.511286Z",
     "start_time": "2024-07-09T16:13:30.762841Z"
    }
   },
   "id": "54582f6aff66f103",
   "execution_count": 12
  },
  {
   "cell_type": "markdown",
   "source": [
    "Action Detection"
   ],
   "metadata": {
    "collapsed": false
   },
   "id": "a18b0ad96504a334"
  },
  {
   "cell_type": "code",
   "outputs": [
    {
     "name": "stdout",
     "output_type": "stream",
     "text": [
      "==============================\n",
      "Dataset Config: AVA_V2.2 \n",
      "==============================\n",
      "Model Config: YOWO_V2_LARGE \n",
      "==============================\n",
      "Build YOWO_V2_LARGE ...\n",
      "num_classes 7\n",
      "==============================\n",
      "2D Backbone: YOLO_FREE_LARGE\n",
      "--pretrained: False\n",
      "==============================\n",
      "FPN: pafpn_elan\n",
      "==============================\n",
      "Head: Decoupled Head\n",
      "==============================\n",
      "Head: Decoupled Head\n",
      "==============================\n",
      "Head: Decoupled Head\n",
      "==============================\n",
      "3D Backbone: RESNEXT101\n",
      "--pretrained: False\n",
      "==============================\n",
      "Head: Decoupled Head\n",
      "==============================\n",
      "Head: Decoupled Head\n",
      "==============================\n",
      "Head: Decoupled Head\n",
      "checkpoints/yowo2/yowo_v2_large.pth\n",
      "Finished loading model!\n",
      "16\n"
     ]
    },
    {
     "ename": "KeyboardInterrupt",
     "evalue": "",
     "output_type": "error",
     "traceback": [
      "\u001B[1;31m---------------------------------------------------------------------------\u001B[0m",
      "\u001B[1;31mKeyboardInterrupt\u001B[0m                         Traceback (most recent call last)",
      "Cell \u001B[1;32mIn[18], line 50\u001B[0m\n\u001B[0;32m     46\u001B[0m x \u001B[38;5;241m=\u001B[39m torch\u001B[38;5;241m.\u001B[39mstack(x, dim\u001B[38;5;241m=\u001B[39m\u001B[38;5;241m1\u001B[39m)\n\u001B[0;32m     47\u001B[0m x \u001B[38;5;241m=\u001B[39m x\u001B[38;5;241m.\u001B[39munsqueeze(\u001B[38;5;241m0\u001B[39m)\u001B[38;5;241m.\u001B[39mto(device)\n\u001B[1;32m---> 50\u001B[0m outputs \u001B[38;5;241m=\u001B[39m \u001B[43mmodel\u001B[49m\u001B[43m(\u001B[49m\u001B[43mx\u001B[49m\u001B[43m)\u001B[49m\n",
      "File \u001B[1;32mF:\\STMixer_lib\\lib\\site-packages\\torch\\nn\\modules\\module.py:1194\u001B[0m, in \u001B[0;36mModule._call_impl\u001B[1;34m(self, *input, **kwargs)\u001B[0m\n\u001B[0;32m   1190\u001B[0m \u001B[38;5;66;03m# If we don't have any hooks, we want to skip the rest of the logic in\u001B[39;00m\n\u001B[0;32m   1191\u001B[0m \u001B[38;5;66;03m# this function, and just call forward.\u001B[39;00m\n\u001B[0;32m   1192\u001B[0m \u001B[38;5;28;01mif\u001B[39;00m \u001B[38;5;129;01mnot\u001B[39;00m (\u001B[38;5;28mself\u001B[39m\u001B[38;5;241m.\u001B[39m_backward_hooks \u001B[38;5;129;01mor\u001B[39;00m \u001B[38;5;28mself\u001B[39m\u001B[38;5;241m.\u001B[39m_forward_hooks \u001B[38;5;129;01mor\u001B[39;00m \u001B[38;5;28mself\u001B[39m\u001B[38;5;241m.\u001B[39m_forward_pre_hooks \u001B[38;5;129;01mor\u001B[39;00m _global_backward_hooks\n\u001B[0;32m   1193\u001B[0m         \u001B[38;5;129;01mor\u001B[39;00m _global_forward_hooks \u001B[38;5;129;01mor\u001B[39;00m _global_forward_pre_hooks):\n\u001B[1;32m-> 1194\u001B[0m     \u001B[38;5;28;01mreturn\u001B[39;00m forward_call(\u001B[38;5;241m*\u001B[39m\u001B[38;5;28minput\u001B[39m, \u001B[38;5;241m*\u001B[39m\u001B[38;5;241m*\u001B[39mkwargs)\n\u001B[0;32m   1195\u001B[0m \u001B[38;5;66;03m# Do not call functions when jit is used\u001B[39;00m\n\u001B[0;32m   1196\u001B[0m full_backward_hooks, non_full_backward_hooks \u001B[38;5;241m=\u001B[39m [], []\n",
      "File \u001B[1;32mF:\\graduate_thesis\\action_detection\\yowov2\\models\\yowo\\yowo.py:367\u001B[0m, in \u001B[0;36mYOWO.forward\u001B[1;34m(self, video_clips)\u001B[0m\n\u001B[0;32m    354\u001B[0m \u001B[38;5;250m\u001B[39m\u001B[38;5;124;03m\"\"\"\u001B[39;00m\n\u001B[0;32m    355\u001B[0m \u001B[38;5;124;03mInput:\u001B[39;00m\n\u001B[0;32m    356\u001B[0m \u001B[38;5;124;03m    video_clips: (Tensor) -> [B, 3, T, H, W].\u001B[39;00m\n\u001B[1;32m   (...)\u001B[0m\n\u001B[0;32m    364\u001B[0m \u001B[38;5;124;03m    }\u001B[39;00m\n\u001B[0;32m    365\u001B[0m \u001B[38;5;124;03m\"\"\"\u001B[39;00m                        \n\u001B[0;32m    366\u001B[0m \u001B[38;5;28;01mif\u001B[39;00m \u001B[38;5;129;01mnot\u001B[39;00m \u001B[38;5;28mself\u001B[39m\u001B[38;5;241m.\u001B[39mtrainable:\n\u001B[1;32m--> 367\u001B[0m     \u001B[38;5;28;01mreturn\u001B[39;00m \u001B[38;5;28;43mself\u001B[39;49m\u001B[38;5;241;43m.\u001B[39;49m\u001B[43minference\u001B[49m\u001B[43m(\u001B[49m\u001B[43mvideo_clips\u001B[49m\u001B[43m)\u001B[49m\n\u001B[0;32m    368\u001B[0m \u001B[38;5;28;01melse\u001B[39;00m:\n\u001B[0;32m    369\u001B[0m     \u001B[38;5;66;03m# key frame\u001B[39;00m\n\u001B[0;32m    370\u001B[0m     key_frame \u001B[38;5;241m=\u001B[39m video_clips[:, :, \u001B[38;5;241m-\u001B[39m\u001B[38;5;241m1\u001B[39m, :, :]\n",
      "File \u001B[1;32mF:\\STMixer_lib\\lib\\site-packages\\torch\\autograd\\grad_mode.py:27\u001B[0m, in \u001B[0;36m_DecoratorContextManager.__call__.<locals>.decorate_context\u001B[1;34m(*args, **kwargs)\u001B[0m\n\u001B[0;32m     24\u001B[0m \u001B[38;5;129m@functools\u001B[39m\u001B[38;5;241m.\u001B[39mwraps(func)\n\u001B[0;32m     25\u001B[0m \u001B[38;5;28;01mdef\u001B[39;00m \u001B[38;5;21mdecorate_context\u001B[39m(\u001B[38;5;241m*\u001B[39margs, \u001B[38;5;241m*\u001B[39m\u001B[38;5;241m*\u001B[39mkwargs):\n\u001B[0;32m     26\u001B[0m     \u001B[38;5;28;01mwith\u001B[39;00m \u001B[38;5;28mself\u001B[39m\u001B[38;5;241m.\u001B[39mclone():\n\u001B[1;32m---> 27\u001B[0m         \u001B[38;5;28;01mreturn\u001B[39;00m func(\u001B[38;5;241m*\u001B[39margs, \u001B[38;5;241m*\u001B[39m\u001B[38;5;241m*\u001B[39mkwargs)\n",
      "File \u001B[1;32mF:\\graduate_thesis\\action_detection\\yowov2\\models\\yowo\\yowo.py:258\u001B[0m, in \u001B[0;36mYOWO.inference\u001B[1;34m(self, video_clips)\u001B[0m\n\u001B[0;32m    256\u001B[0m key_frame \u001B[38;5;241m=\u001B[39m video_clips[:, :, \u001B[38;5;241m-\u001B[39m\u001B[38;5;241m1\u001B[39m, :, :]\n\u001B[0;32m    257\u001B[0m \u001B[38;5;66;03m# 3D backbone\u001B[39;00m\n\u001B[1;32m--> 258\u001B[0m feat_3d \u001B[38;5;241m=\u001B[39m \u001B[38;5;28;43mself\u001B[39;49m\u001B[38;5;241;43m.\u001B[39;49m\u001B[43mbackbone_3d\u001B[49m\u001B[43m(\u001B[49m\u001B[43mvideo_clips\u001B[49m\u001B[43m)\u001B[49m\n\u001B[0;32m    260\u001B[0m \u001B[38;5;66;03m# 2D backbone\u001B[39;00m\n\u001B[0;32m    261\u001B[0m cls_feats, reg_feats \u001B[38;5;241m=\u001B[39m \u001B[38;5;28mself\u001B[39m\u001B[38;5;241m.\u001B[39mbackbone_2d(key_frame)\n",
      "File \u001B[1;32mF:\\STMixer_lib\\lib\\site-packages\\torch\\nn\\modules\\module.py:1194\u001B[0m, in \u001B[0;36mModule._call_impl\u001B[1;34m(self, *input, **kwargs)\u001B[0m\n\u001B[0;32m   1190\u001B[0m \u001B[38;5;66;03m# If we don't have any hooks, we want to skip the rest of the logic in\u001B[39;00m\n\u001B[0;32m   1191\u001B[0m \u001B[38;5;66;03m# this function, and just call forward.\u001B[39;00m\n\u001B[0;32m   1192\u001B[0m \u001B[38;5;28;01mif\u001B[39;00m \u001B[38;5;129;01mnot\u001B[39;00m (\u001B[38;5;28mself\u001B[39m\u001B[38;5;241m.\u001B[39m_backward_hooks \u001B[38;5;129;01mor\u001B[39;00m \u001B[38;5;28mself\u001B[39m\u001B[38;5;241m.\u001B[39m_forward_hooks \u001B[38;5;129;01mor\u001B[39;00m \u001B[38;5;28mself\u001B[39m\u001B[38;5;241m.\u001B[39m_forward_pre_hooks \u001B[38;5;129;01mor\u001B[39;00m _global_backward_hooks\n\u001B[0;32m   1193\u001B[0m         \u001B[38;5;129;01mor\u001B[39;00m _global_forward_hooks \u001B[38;5;129;01mor\u001B[39;00m _global_forward_pre_hooks):\n\u001B[1;32m-> 1194\u001B[0m     \u001B[38;5;28;01mreturn\u001B[39;00m forward_call(\u001B[38;5;241m*\u001B[39m\u001B[38;5;28minput\u001B[39m, \u001B[38;5;241m*\u001B[39m\u001B[38;5;241m*\u001B[39mkwargs)\n\u001B[0;32m   1195\u001B[0m \u001B[38;5;66;03m# Do not call functions when jit is used\u001B[39;00m\n\u001B[0;32m   1196\u001B[0m full_backward_hooks, non_full_backward_hooks \u001B[38;5;241m=\u001B[39m [], []\n",
      "File \u001B[1;32mF:\\graduate_thesis\\action_detection\\yowov2\\models\\backbone\\backbone_3d\\backbone_3d.py:66\u001B[0m, in \u001B[0;36mBackbone3D.forward\u001B[1;34m(self, x)\u001B[0m\n\u001B[0;32m     55\u001B[0m \u001B[38;5;28;01mdef\u001B[39;00m \u001B[38;5;21mforward\u001B[39m(\u001B[38;5;28mself\u001B[39m, x):\n\u001B[0;32m     56\u001B[0m \u001B[38;5;250m    \u001B[39m\u001B[38;5;124;03m\"\"\"\u001B[39;00m\n\u001B[0;32m     57\u001B[0m \u001B[38;5;124;03m        Input:\u001B[39;00m\n\u001B[0;32m     58\u001B[0m \u001B[38;5;124;03m            x: (Tensor) -> [B, C, T, H, W]\u001B[39;00m\n\u001B[1;32m   (...)\u001B[0m\n\u001B[0;32m     64\u001B[0m \u001B[38;5;124;03m                ]\u001B[39;00m\n\u001B[0;32m     65\u001B[0m \u001B[38;5;124;03m    \"\"\"\u001B[39;00m\n\u001B[1;32m---> 66\u001B[0m     feat \u001B[38;5;241m=\u001B[39m \u001B[38;5;28;43mself\u001B[39;49m\u001B[38;5;241;43m.\u001B[39;49m\u001B[43mbackbone\u001B[49m\u001B[43m(\u001B[49m\u001B[43mx\u001B[49m\u001B[43m)\u001B[49m\n\u001B[0;32m     68\u001B[0m     \u001B[38;5;28;01mreturn\u001B[39;00m feat\n",
      "File \u001B[1;32mF:\\STMixer_lib\\lib\\site-packages\\torch\\nn\\modules\\module.py:1194\u001B[0m, in \u001B[0;36mModule._call_impl\u001B[1;34m(self, *input, **kwargs)\u001B[0m\n\u001B[0;32m   1190\u001B[0m \u001B[38;5;66;03m# If we don't have any hooks, we want to skip the rest of the logic in\u001B[39;00m\n\u001B[0;32m   1191\u001B[0m \u001B[38;5;66;03m# this function, and just call forward.\u001B[39;00m\n\u001B[0;32m   1192\u001B[0m \u001B[38;5;28;01mif\u001B[39;00m \u001B[38;5;129;01mnot\u001B[39;00m (\u001B[38;5;28mself\u001B[39m\u001B[38;5;241m.\u001B[39m_backward_hooks \u001B[38;5;129;01mor\u001B[39;00m \u001B[38;5;28mself\u001B[39m\u001B[38;5;241m.\u001B[39m_forward_hooks \u001B[38;5;129;01mor\u001B[39;00m \u001B[38;5;28mself\u001B[39m\u001B[38;5;241m.\u001B[39m_forward_pre_hooks \u001B[38;5;129;01mor\u001B[39;00m _global_backward_hooks\n\u001B[0;32m   1193\u001B[0m         \u001B[38;5;129;01mor\u001B[39;00m _global_forward_hooks \u001B[38;5;129;01mor\u001B[39;00m _global_forward_pre_hooks):\n\u001B[1;32m-> 1194\u001B[0m     \u001B[38;5;28;01mreturn\u001B[39;00m forward_call(\u001B[38;5;241m*\u001B[39m\u001B[38;5;28minput\u001B[39m, \u001B[38;5;241m*\u001B[39m\u001B[38;5;241m*\u001B[39mkwargs)\n\u001B[0;32m   1195\u001B[0m \u001B[38;5;66;03m# Do not call functions when jit is used\u001B[39;00m\n\u001B[0;32m   1196\u001B[0m full_backward_hooks, non_full_backward_hooks \u001B[38;5;241m=\u001B[39m [], []\n",
      "File \u001B[1;32mF:\\graduate_thesis\\action_detection\\yowov2\\models\\backbone\\backbone_3d\\cnn_3d\\resnext.py:159\u001B[0m, in \u001B[0;36mResNeXt.forward\u001B[1;34m(self, x)\u001B[0m\n\u001B[0;32m    156\u001B[0m c1 \u001B[38;5;241m=\u001B[39m \u001B[38;5;28mself\u001B[39m\u001B[38;5;241m.\u001B[39mrelu(c1)\n\u001B[0;32m    157\u001B[0m c2 \u001B[38;5;241m=\u001B[39m \u001B[38;5;28mself\u001B[39m\u001B[38;5;241m.\u001B[39mmaxpool(c1)\n\u001B[1;32m--> 159\u001B[0m c2 \u001B[38;5;241m=\u001B[39m \u001B[38;5;28;43mself\u001B[39;49m\u001B[38;5;241;43m.\u001B[39;49m\u001B[43mlayer1\u001B[49m\u001B[43m(\u001B[49m\u001B[43mc2\u001B[49m\u001B[43m)\u001B[49m\n\u001B[0;32m    160\u001B[0m c3 \u001B[38;5;241m=\u001B[39m \u001B[38;5;28mself\u001B[39m\u001B[38;5;241m.\u001B[39mlayer2(c2)\n\u001B[0;32m    161\u001B[0m c4 \u001B[38;5;241m=\u001B[39m \u001B[38;5;28mself\u001B[39m\u001B[38;5;241m.\u001B[39mlayer3(c3)\n",
      "File \u001B[1;32mF:\\STMixer_lib\\lib\\site-packages\\torch\\nn\\modules\\module.py:1194\u001B[0m, in \u001B[0;36mModule._call_impl\u001B[1;34m(self, *input, **kwargs)\u001B[0m\n\u001B[0;32m   1190\u001B[0m \u001B[38;5;66;03m# If we don't have any hooks, we want to skip the rest of the logic in\u001B[39;00m\n\u001B[0;32m   1191\u001B[0m \u001B[38;5;66;03m# this function, and just call forward.\u001B[39;00m\n\u001B[0;32m   1192\u001B[0m \u001B[38;5;28;01mif\u001B[39;00m \u001B[38;5;129;01mnot\u001B[39;00m (\u001B[38;5;28mself\u001B[39m\u001B[38;5;241m.\u001B[39m_backward_hooks \u001B[38;5;129;01mor\u001B[39;00m \u001B[38;5;28mself\u001B[39m\u001B[38;5;241m.\u001B[39m_forward_hooks \u001B[38;5;129;01mor\u001B[39;00m \u001B[38;5;28mself\u001B[39m\u001B[38;5;241m.\u001B[39m_forward_pre_hooks \u001B[38;5;129;01mor\u001B[39;00m _global_backward_hooks\n\u001B[0;32m   1193\u001B[0m         \u001B[38;5;129;01mor\u001B[39;00m _global_forward_hooks \u001B[38;5;129;01mor\u001B[39;00m _global_forward_pre_hooks):\n\u001B[1;32m-> 1194\u001B[0m     \u001B[38;5;28;01mreturn\u001B[39;00m forward_call(\u001B[38;5;241m*\u001B[39m\u001B[38;5;28minput\u001B[39m, \u001B[38;5;241m*\u001B[39m\u001B[38;5;241m*\u001B[39mkwargs)\n\u001B[0;32m   1195\u001B[0m \u001B[38;5;66;03m# Do not call functions when jit is used\u001B[39;00m\n\u001B[0;32m   1196\u001B[0m full_backward_hooks, non_full_backward_hooks \u001B[38;5;241m=\u001B[39m [], []\n",
      "File \u001B[1;32mF:\\STMixer_lib\\lib\\site-packages\\torch\\nn\\modules\\container.py:204\u001B[0m, in \u001B[0;36mSequential.forward\u001B[1;34m(self, input)\u001B[0m\n\u001B[0;32m    202\u001B[0m \u001B[38;5;28;01mdef\u001B[39;00m \u001B[38;5;21mforward\u001B[39m(\u001B[38;5;28mself\u001B[39m, \u001B[38;5;28minput\u001B[39m):\n\u001B[0;32m    203\u001B[0m     \u001B[38;5;28;01mfor\u001B[39;00m module \u001B[38;5;129;01min\u001B[39;00m \u001B[38;5;28mself\u001B[39m:\n\u001B[1;32m--> 204\u001B[0m         \u001B[38;5;28minput\u001B[39m \u001B[38;5;241m=\u001B[39m \u001B[43mmodule\u001B[49m\u001B[43m(\u001B[49m\u001B[38;5;28;43minput\u001B[39;49m\u001B[43m)\u001B[49m\n\u001B[0;32m    205\u001B[0m     \u001B[38;5;28;01mreturn\u001B[39;00m \u001B[38;5;28minput\u001B[39m\n",
      "File \u001B[1;32mF:\\STMixer_lib\\lib\\site-packages\\torch\\nn\\modules\\module.py:1194\u001B[0m, in \u001B[0;36mModule._call_impl\u001B[1;34m(self, *input, **kwargs)\u001B[0m\n\u001B[0;32m   1190\u001B[0m \u001B[38;5;66;03m# If we don't have any hooks, we want to skip the rest of the logic in\u001B[39;00m\n\u001B[0;32m   1191\u001B[0m \u001B[38;5;66;03m# this function, and just call forward.\u001B[39;00m\n\u001B[0;32m   1192\u001B[0m \u001B[38;5;28;01mif\u001B[39;00m \u001B[38;5;129;01mnot\u001B[39;00m (\u001B[38;5;28mself\u001B[39m\u001B[38;5;241m.\u001B[39m_backward_hooks \u001B[38;5;129;01mor\u001B[39;00m \u001B[38;5;28mself\u001B[39m\u001B[38;5;241m.\u001B[39m_forward_hooks \u001B[38;5;129;01mor\u001B[39;00m \u001B[38;5;28mself\u001B[39m\u001B[38;5;241m.\u001B[39m_forward_pre_hooks \u001B[38;5;129;01mor\u001B[39;00m _global_backward_hooks\n\u001B[0;32m   1193\u001B[0m         \u001B[38;5;129;01mor\u001B[39;00m _global_forward_hooks \u001B[38;5;129;01mor\u001B[39;00m _global_forward_pre_hooks):\n\u001B[1;32m-> 1194\u001B[0m     \u001B[38;5;28;01mreturn\u001B[39;00m forward_call(\u001B[38;5;241m*\u001B[39m\u001B[38;5;28minput\u001B[39m, \u001B[38;5;241m*\u001B[39m\u001B[38;5;241m*\u001B[39mkwargs)\n\u001B[0;32m   1195\u001B[0m \u001B[38;5;66;03m# Do not call functions when jit is used\u001B[39;00m\n\u001B[0;32m   1196\u001B[0m full_backward_hooks, non_full_backward_hooks \u001B[38;5;241m=\u001B[39m [], []\n",
      "File \u001B[1;32mF:\\graduate_thesis\\action_detection\\yowov2\\models\\backbone\\backbone_3d\\cnn_3d\\resnext.py:73\u001B[0m, in \u001B[0;36mResNeXtBottleneck.forward\u001B[1;34m(self, x)\u001B[0m\n\u001B[0;32m     70\u001B[0m out \u001B[38;5;241m=\u001B[39m \u001B[38;5;28mself\u001B[39m\u001B[38;5;241m.\u001B[39mbn3(out)\n\u001B[0;32m     72\u001B[0m \u001B[38;5;28;01mif\u001B[39;00m \u001B[38;5;28mself\u001B[39m\u001B[38;5;241m.\u001B[39mdownsample \u001B[38;5;129;01mis\u001B[39;00m \u001B[38;5;129;01mnot\u001B[39;00m \u001B[38;5;28;01mNone\u001B[39;00m:\n\u001B[1;32m---> 73\u001B[0m     residual \u001B[38;5;241m=\u001B[39m \u001B[38;5;28;43mself\u001B[39;49m\u001B[38;5;241;43m.\u001B[39;49m\u001B[43mdownsample\u001B[49m\u001B[43m(\u001B[49m\u001B[43mx\u001B[49m\u001B[43m)\u001B[49m\n\u001B[0;32m     75\u001B[0m out \u001B[38;5;241m+\u001B[39m\u001B[38;5;241m=\u001B[39m residual\n\u001B[0;32m     76\u001B[0m out \u001B[38;5;241m=\u001B[39m \u001B[38;5;28mself\u001B[39m\u001B[38;5;241m.\u001B[39mrelu(out)\n",
      "File \u001B[1;32mF:\\STMixer_lib\\lib\\site-packages\\torch\\nn\\modules\\module.py:1194\u001B[0m, in \u001B[0;36mModule._call_impl\u001B[1;34m(self, *input, **kwargs)\u001B[0m\n\u001B[0;32m   1190\u001B[0m \u001B[38;5;66;03m# If we don't have any hooks, we want to skip the rest of the logic in\u001B[39;00m\n\u001B[0;32m   1191\u001B[0m \u001B[38;5;66;03m# this function, and just call forward.\u001B[39;00m\n\u001B[0;32m   1192\u001B[0m \u001B[38;5;28;01mif\u001B[39;00m \u001B[38;5;129;01mnot\u001B[39;00m (\u001B[38;5;28mself\u001B[39m\u001B[38;5;241m.\u001B[39m_backward_hooks \u001B[38;5;129;01mor\u001B[39;00m \u001B[38;5;28mself\u001B[39m\u001B[38;5;241m.\u001B[39m_forward_hooks \u001B[38;5;129;01mor\u001B[39;00m \u001B[38;5;28mself\u001B[39m\u001B[38;5;241m.\u001B[39m_forward_pre_hooks \u001B[38;5;129;01mor\u001B[39;00m _global_backward_hooks\n\u001B[0;32m   1193\u001B[0m         \u001B[38;5;129;01mor\u001B[39;00m _global_forward_hooks \u001B[38;5;129;01mor\u001B[39;00m _global_forward_pre_hooks):\n\u001B[1;32m-> 1194\u001B[0m     \u001B[38;5;28;01mreturn\u001B[39;00m forward_call(\u001B[38;5;241m*\u001B[39m\u001B[38;5;28minput\u001B[39m, \u001B[38;5;241m*\u001B[39m\u001B[38;5;241m*\u001B[39mkwargs)\n\u001B[0;32m   1195\u001B[0m \u001B[38;5;66;03m# Do not call functions when jit is used\u001B[39;00m\n\u001B[0;32m   1196\u001B[0m full_backward_hooks, non_full_backward_hooks \u001B[38;5;241m=\u001B[39m [], []\n",
      "File \u001B[1;32mF:\\STMixer_lib\\lib\\site-packages\\torch\\nn\\modules\\container.py:204\u001B[0m, in \u001B[0;36mSequential.forward\u001B[1;34m(self, input)\u001B[0m\n\u001B[0;32m    202\u001B[0m \u001B[38;5;28;01mdef\u001B[39;00m \u001B[38;5;21mforward\u001B[39m(\u001B[38;5;28mself\u001B[39m, \u001B[38;5;28minput\u001B[39m):\n\u001B[0;32m    203\u001B[0m     \u001B[38;5;28;01mfor\u001B[39;00m module \u001B[38;5;129;01min\u001B[39;00m \u001B[38;5;28mself\u001B[39m:\n\u001B[1;32m--> 204\u001B[0m         \u001B[38;5;28minput\u001B[39m \u001B[38;5;241m=\u001B[39m module(\u001B[38;5;28minput\u001B[39m)\n\u001B[0;32m    205\u001B[0m     \u001B[38;5;28;01mreturn\u001B[39;00m \u001B[38;5;28minput\u001B[39m\n",
      "\u001B[1;31mKeyboardInterrupt\u001B[0m: "
     ]
    }
   ],
   "source": [
    "video_clip = []\n",
    "sample_rate = 16\n",
    "basetransform = BaseTransform(img_size=height)\n",
    "args = parser.parse_args(args=[])\n",
    "d_cfg = build_dataset_config(args)\n",
    "m_cfg = build_model_config(args)\n",
    "class_names = d_cfg['label_map']\n",
    "num_classes = 7\n",
    "class_colors = [(np.random.randint(255),\n",
    "                     np.random.randint(255),\n",
    "                     np.random.randint(255)) for _ in range(num_classes)]\n",
    "\n",
    "if args.cuda:\n",
    "    print('use cuda')\n",
    "    device = torch.device(\"cuda\")\n",
    "else:\n",
    "    device = torch.device(\"cpu\")\n",
    "\n",
    "model, _ = build_model(\n",
    "        args=args,\n",
    "        d_cfg=d_cfg,\n",
    "        m_cfg=m_cfg,\n",
    "        device='cuda',\n",
    "        num_classes=num_classes,\n",
    "        trainable=False\n",
    "    )\n",
    "\n",
    "print(args.weight)\n",
    "\n",
    "model = load_weight(model=model, path_to_ckpt=args.weight)\n",
    "\n",
    "for frame in frame_list:\n",
    "    frame_rgb = frame[..., (2, 1, 0)]\n",
    "    frame_pil = Image.fromarray(frame_rgb.astype(np.uint8))\n",
    "    \n",
    "    video_clip.append(frame_pil)\n",
    "    orig_h, orig_w = frame_rgb.shape[:2]\n",
    "    \n",
    "    if len(video_clip) < sample_rate:\n",
    "        continue\n",
    "        \n",
    "    x, _ = basetransform(video_clip)\n",
    "\n",
    "    x = torch.stack(x, dim=1)\n",
    "    x = x.unsqueeze(0).to(device)\n",
    "    \n",
    "    outputs = model(x)"
   ],
   "metadata": {
    "collapsed": false,
    "ExecuteTime": {
     "end_time": "2024-07-09T16:29:08.340491Z",
     "start_time": "2024-07-09T16:29:04.800294Z"
    }
   },
   "id": "89dbf1a4eb0096bc",
   "execution_count": 18
  },
  {
   "cell_type": "code",
   "outputs": [],
   "source": [
    "\n",
    "\n"
   ],
   "metadata": {
    "collapsed": false,
    "ExecuteTime": {
     "end_time": "2024-07-09T16:18:19.452841Z",
     "start_time": "2024-07-09T16:18:19.440094Z"
    }
   },
   "id": "da67766c346484d9",
   "execution_count": 13
  },
  {
   "cell_type": "code",
   "outputs": [],
   "source": [],
   "metadata": {
    "collapsed": false,
    "ExecuteTime": {
     "end_time": "2024-07-09T16:18:20.690404Z",
     "start_time": "2024-07-09T16:18:20.677227Z"
    }
   },
   "id": "2d694dabd5e296bb",
   "execution_count": 13
  },
  {
   "cell_type": "markdown",
   "source": [
    "Video summarization"
   ],
   "metadata": {
    "collapsed": false
   },
   "id": "eb0ab9add4b5d2d3"
  },
  {
   "cell_type": "code",
   "outputs": [
    {
     "name": "stderr",
     "output_type": "stream",
     "text": [
      "usage: ipykernel_launcher.py [-h] [--device {cuda,cpu}] [--seed SEED]\n",
      "                             [--splits SPLITS [SPLITS ...]]\n",
      "                             [--max-epoch MAX_EPOCH] [--model-dir MODEL_DIR]\n",
      "                             [--log-file LOG_FILE] [--lr LR]\n",
      "                             [--weight-decay WEIGHT_DECAY]\n",
      "                             [--lambda-reg LAMBDA_REG]\n",
      "                             [--nms-thresh NMS_THRESH] [--ckpt-path CKPT_PATH]\n",
      "                             [--sample-rate SAMPLE_RATE] [--source SOURCE]\n",
      "                             [--save-path SAVE_PATH]\n",
      "                             [--base-model {attention,lstm,linear,bilstm,gcn}]\n",
      "                             [--num-head NUM_HEAD] [--num-feature NUM_FEATURE]\n",
      "                             [--num-hidden NUM_HIDDEN]\n",
      "                             [--neg-sample-ratio NEG_SAMPLE_RATIO]\n",
      "                             [--incomplete-sample-ratio INCOMPLETE_SAMPLE_RATIO]\n",
      "                             [--pos-iou-thresh POS_IOU_THRESH]\n",
      "                             [--neg-iou-thresh NEG_IOU_THRESH]\n",
      "                             [--incomplete-iou-thresh INCOMPLETE_IOU_THRESH]\n",
      "                             [--anchor-scales ANCHOR_SCALES [ANCHOR_SCALES ...]]\n",
      "                             [--lambda-ctr LAMBDA_CTR]\n",
      "                             [--cls-loss {focal,cross-entropy}]\n",
      "                             [--reg-loss {soft-iou,smooth-l1}]\n",
      "                             {anchor-based,anchor-free}\n",
      "ipykernel_launcher.py: error: argument model: invalid choice: 'C:\\\\Users\\\\chang\\\\AppData\\\\Roaming\\\\jupyter\\\\runtime\\\\kernel-68458391-24dc-4c1a-82de-060bd4fcc89b.json' (choose from 'anchor-based', 'anchor-free')\n"
     ]
    },
    {
     "ename": "AttributeError",
     "evalue": "'tuple' object has no attribute 'tb_frame'",
     "output_type": "error",
     "traceback": [
      "\u001B[1;31m---------------------------------------------------------------------------\u001B[0m",
      "\u001B[1;31mArgumentError\u001B[0m                             Traceback (most recent call last)",
      "File \u001B[1;32m~\\AppData\\Local\\Programs\\Python\\Python310\\lib\\argparse.py:1859\u001B[0m, in \u001B[0;36mArgumentParser.parse_known_args\u001B[1;34m(self, args, namespace)\u001B[0m\n\u001B[0;32m   1858\u001B[0m \u001B[38;5;28;01mtry\u001B[39;00m:\n\u001B[1;32m-> 1859\u001B[0m     namespace, args \u001B[38;5;241m=\u001B[39m \u001B[38;5;28;43mself\u001B[39;49m\u001B[38;5;241;43m.\u001B[39;49m\u001B[43m_parse_known_args\u001B[49m\u001B[43m(\u001B[49m\u001B[43margs\u001B[49m\u001B[43m,\u001B[49m\u001B[43m \u001B[49m\u001B[43mnamespace\u001B[49m\u001B[43m)\u001B[49m\n\u001B[0;32m   1860\u001B[0m \u001B[38;5;28;01mexcept\u001B[39;00m ArgumentError:\n",
      "File \u001B[1;32m~\\AppData\\Local\\Programs\\Python\\Python310\\lib\\argparse.py:2075\u001B[0m, in \u001B[0;36mArgumentParser._parse_known_args\u001B[1;34m(self, arg_strings, namespace)\u001B[0m\n\u001B[0;32m   2074\u001B[0m \u001B[38;5;66;03m# consume any positionals following the last Optional\u001B[39;00m\n\u001B[1;32m-> 2075\u001B[0m stop_index \u001B[38;5;241m=\u001B[39m \u001B[43mconsume_positionals\u001B[49m\u001B[43m(\u001B[49m\u001B[43mstart_index\u001B[49m\u001B[43m)\u001B[49m\n\u001B[0;32m   2077\u001B[0m \u001B[38;5;66;03m# if we didn't consume all the argument strings, there were extras\u001B[39;00m\n",
      "File \u001B[1;32m~\\AppData\\Local\\Programs\\Python\\Python310\\lib\\argparse.py:2031\u001B[0m, in \u001B[0;36mArgumentParser._parse_known_args.<locals>.consume_positionals\u001B[1;34m(start_index)\u001B[0m\n\u001B[0;32m   2030\u001B[0m     start_index \u001B[38;5;241m+\u001B[39m\u001B[38;5;241m=\u001B[39m arg_count\n\u001B[1;32m-> 2031\u001B[0m     \u001B[43mtake_action\u001B[49m\u001B[43m(\u001B[49m\u001B[43maction\u001B[49m\u001B[43m,\u001B[49m\u001B[43m \u001B[49m\u001B[43margs\u001B[49m\u001B[43m)\u001B[49m\n\u001B[0;32m   2033\u001B[0m \u001B[38;5;66;03m# slice off the Positionals that we just parsed and return the\u001B[39;00m\n\u001B[0;32m   2034\u001B[0m \u001B[38;5;66;03m# index at which the Positionals' string args stopped\u001B[39;00m\n",
      "File \u001B[1;32m~\\AppData\\Local\\Programs\\Python\\Python310\\lib\\argparse.py:1920\u001B[0m, in \u001B[0;36mArgumentParser._parse_known_args.<locals>.take_action\u001B[1;34m(action, argument_strings, option_string)\u001B[0m\n\u001B[0;32m   1919\u001B[0m seen_actions\u001B[38;5;241m.\u001B[39madd(action)\n\u001B[1;32m-> 1920\u001B[0m argument_values \u001B[38;5;241m=\u001B[39m \u001B[38;5;28;43mself\u001B[39;49m\u001B[38;5;241;43m.\u001B[39;49m\u001B[43m_get_values\u001B[49m\u001B[43m(\u001B[49m\u001B[43maction\u001B[49m\u001B[43m,\u001B[49m\u001B[43m \u001B[49m\u001B[43margument_strings\u001B[49m\u001B[43m)\u001B[49m\n\u001B[0;32m   1922\u001B[0m \u001B[38;5;66;03m# error if this argument is not allowed with other previously\u001B[39;00m\n\u001B[0;32m   1923\u001B[0m \u001B[38;5;66;03m# seen arguments, assuming that actions that use the default\u001B[39;00m\n\u001B[0;32m   1924\u001B[0m \u001B[38;5;66;03m# value don't really count as \"present\"\u001B[39;00m\n",
      "File \u001B[1;32m~\\AppData\\Local\\Programs\\Python\\Python310\\lib\\argparse.py:2456\u001B[0m, in \u001B[0;36mArgumentParser._get_values\u001B[1;34m(self, action, arg_strings)\u001B[0m\n\u001B[0;32m   2455\u001B[0m     value \u001B[38;5;241m=\u001B[39m \u001B[38;5;28mself\u001B[39m\u001B[38;5;241m.\u001B[39m_get_value(action, arg_string)\n\u001B[1;32m-> 2456\u001B[0m     \u001B[38;5;28;43mself\u001B[39;49m\u001B[38;5;241;43m.\u001B[39;49m\u001B[43m_check_value\u001B[49m\u001B[43m(\u001B[49m\u001B[43maction\u001B[49m\u001B[43m,\u001B[49m\u001B[43m \u001B[49m\u001B[43mvalue\u001B[49m\u001B[43m)\u001B[49m\n\u001B[0;32m   2458\u001B[0m \u001B[38;5;66;03m# REMAINDER arguments convert all values, checking none\u001B[39;00m\n",
      "File \u001B[1;32m~\\AppData\\Local\\Programs\\Python\\Python310\\lib\\argparse.py:2512\u001B[0m, in \u001B[0;36mArgumentParser._check_value\u001B[1;34m(self, action, value)\u001B[0m\n\u001B[0;32m   2511\u001B[0m msg \u001B[38;5;241m=\u001B[39m _(\u001B[38;5;124m'\u001B[39m\u001B[38;5;124minvalid choice: \u001B[39m\u001B[38;5;132;01m%(value)r\u001B[39;00m\u001B[38;5;124m (choose from \u001B[39m\u001B[38;5;132;01m%(choices)s\u001B[39;00m\u001B[38;5;124m)\u001B[39m\u001B[38;5;124m'\u001B[39m)\n\u001B[1;32m-> 2512\u001B[0m \u001B[38;5;28;01mraise\u001B[39;00m ArgumentError(action, msg \u001B[38;5;241m%\u001B[39m args)\n",
      "\u001B[1;31mArgumentError\u001B[0m: argument model: invalid choice: 'C:\\\\Users\\\\chang\\\\AppData\\\\Roaming\\\\jupyter\\\\runtime\\\\kernel-68458391-24dc-4c1a-82de-060bd4fcc89b.json' (choose from 'anchor-based', 'anchor-free')",
      "\nDuring handling of the above exception, another exception occurred:\n",
      "\u001B[1;31mSystemExit\u001B[0m                                Traceback (most recent call last)",
      "    \u001B[1;31m[... skipping hidden 1 frame]\u001B[0m\n",
      "Cell \u001B[1;32mIn[20], line 4\u001B[0m\n\u001B[0;32m      3\u001B[0m feature_bank \u001B[38;5;241m=\u001B[39m []\n\u001B[1;32m----> 4\u001B[0m summarize_args \u001B[38;5;241m=\u001B[39m \u001B[43minit_helper\u001B[49m\u001B[38;5;241;43m.\u001B[39;49m\u001B[43mget_arguments\u001B[49m\u001B[43m(\u001B[49m\u001B[43m)\u001B[49m\n\u001B[0;32m      6\u001B[0m summarize_model \u001B[38;5;241m=\u001B[39m get_model(summarize_args\u001B[38;5;241m.\u001B[39mmodel, \u001B[38;5;241m*\u001B[39m\u001B[38;5;241m*\u001B[39m\u001B[38;5;28mvars\u001B[39m(args))\n",
      "File \u001B[1;32mF:\\graduate_thesis\\summarization\\DSNet\\src\\helpers\\init_helper.py:86\u001B[0m, in \u001B[0;36mget_arguments\u001B[1;34m()\u001B[0m\n\u001B[0;32m     85\u001B[0m parser \u001B[38;5;241m=\u001B[39m get_parser()\n\u001B[1;32m---> 86\u001B[0m args \u001B[38;5;241m=\u001B[39m \u001B[43mparser\u001B[49m\u001B[38;5;241;43m.\u001B[39;49m\u001B[43mparse_args\u001B[49m\u001B[43m(\u001B[49m\u001B[43m)\u001B[49m\n\u001B[0;32m     87\u001B[0m \u001B[38;5;28;01mreturn\u001B[39;00m args\n",
      "File \u001B[1;32m~\\AppData\\Local\\Programs\\Python\\Python310\\lib\\argparse.py:1826\u001B[0m, in \u001B[0;36mArgumentParser.parse_args\u001B[1;34m(self, args, namespace)\u001B[0m\n\u001B[0;32m   1825\u001B[0m \u001B[38;5;28;01mdef\u001B[39;00m \u001B[38;5;21mparse_args\u001B[39m(\u001B[38;5;28mself\u001B[39m, args\u001B[38;5;241m=\u001B[39m\u001B[38;5;28;01mNone\u001B[39;00m, namespace\u001B[38;5;241m=\u001B[39m\u001B[38;5;28;01mNone\u001B[39;00m):\n\u001B[1;32m-> 1826\u001B[0m     args, argv \u001B[38;5;241m=\u001B[39m \u001B[38;5;28;43mself\u001B[39;49m\u001B[38;5;241;43m.\u001B[39;49m\u001B[43mparse_known_args\u001B[49m\u001B[43m(\u001B[49m\u001B[43margs\u001B[49m\u001B[43m,\u001B[49m\u001B[43m \u001B[49m\u001B[43mnamespace\u001B[49m\u001B[43m)\u001B[49m\n\u001B[0;32m   1827\u001B[0m     \u001B[38;5;28;01mif\u001B[39;00m argv:\n",
      "File \u001B[1;32m~\\AppData\\Local\\Programs\\Python\\Python310\\lib\\argparse.py:1862\u001B[0m, in \u001B[0;36mArgumentParser.parse_known_args\u001B[1;34m(self, args, namespace)\u001B[0m\n\u001B[0;32m   1861\u001B[0m         err \u001B[38;5;241m=\u001B[39m _sys\u001B[38;5;241m.\u001B[39mexc_info()[\u001B[38;5;241m1\u001B[39m]\n\u001B[1;32m-> 1862\u001B[0m         \u001B[38;5;28;43mself\u001B[39;49m\u001B[38;5;241;43m.\u001B[39;49m\u001B[43merror\u001B[49m\u001B[43m(\u001B[49m\u001B[38;5;28;43mstr\u001B[39;49m\u001B[43m(\u001B[49m\u001B[43merr\u001B[49m\u001B[43m)\u001B[49m\u001B[43m)\u001B[49m\n\u001B[0;32m   1863\u001B[0m \u001B[38;5;28;01melse\u001B[39;00m:\n",
      "File \u001B[1;32m~\\AppData\\Local\\Programs\\Python\\Python310\\lib\\argparse.py:2587\u001B[0m, in \u001B[0;36mArgumentParser.error\u001B[1;34m(self, message)\u001B[0m\n\u001B[0;32m   2586\u001B[0m args \u001B[38;5;241m=\u001B[39m {\u001B[38;5;124m'\u001B[39m\u001B[38;5;124mprog\u001B[39m\u001B[38;5;124m'\u001B[39m: \u001B[38;5;28mself\u001B[39m\u001B[38;5;241m.\u001B[39mprog, \u001B[38;5;124m'\u001B[39m\u001B[38;5;124mmessage\u001B[39m\u001B[38;5;124m'\u001B[39m: message}\n\u001B[1;32m-> 2587\u001B[0m \u001B[38;5;28;43mself\u001B[39;49m\u001B[38;5;241;43m.\u001B[39;49m\u001B[43mexit\u001B[49m\u001B[43m(\u001B[49m\u001B[38;5;241;43m2\u001B[39;49m\u001B[43m,\u001B[49m\u001B[43m \u001B[49m\u001B[43m_\u001B[49m\u001B[43m(\u001B[49m\u001B[38;5;124;43m'\u001B[39;49m\u001B[38;5;132;43;01m%(prog)s\u001B[39;49;00m\u001B[38;5;124;43m: error: \u001B[39;49m\u001B[38;5;132;43;01m%(message)s\u001B[39;49;00m\u001B[38;5;130;43;01m\\n\u001B[39;49;00m\u001B[38;5;124;43m'\u001B[39;49m\u001B[43m)\u001B[49m\u001B[43m \u001B[49m\u001B[38;5;241;43m%\u001B[39;49m\u001B[43m \u001B[49m\u001B[43margs\u001B[49m\u001B[43m)\u001B[49m\n",
      "File \u001B[1;32m~\\AppData\\Local\\Programs\\Python\\Python310\\lib\\argparse.py:2574\u001B[0m, in \u001B[0;36mArgumentParser.exit\u001B[1;34m(self, status, message)\u001B[0m\n\u001B[0;32m   2573\u001B[0m     \u001B[38;5;28mself\u001B[39m\u001B[38;5;241m.\u001B[39m_print_message(message, _sys\u001B[38;5;241m.\u001B[39mstderr)\n\u001B[1;32m-> 2574\u001B[0m \u001B[43m_sys\u001B[49m\u001B[38;5;241;43m.\u001B[39;49m\u001B[43mexit\u001B[49m\u001B[43m(\u001B[49m\u001B[43mstatus\u001B[49m\u001B[43m)\u001B[49m\n",
      "\u001B[1;31mSystemExit\u001B[0m: 2",
      "\nDuring handling of the above exception, another exception occurred:\n",
      "\u001B[1;31mAttributeError\u001B[0m                            Traceback (most recent call last)",
      "    \u001B[1;31m[... skipping hidden 1 frame]\u001B[0m\n",
      "File \u001B[1;32mF:\\STMixer_lib\\lib\\site-packages\\IPython\\core\\interactiveshell.py:2145\u001B[0m, in \u001B[0;36mInteractiveShell.showtraceback\u001B[1;34m(self, exc_tuple, filename, tb_offset, exception_only, running_compiled_code)\u001B[0m\n\u001B[0;32m   2142\u001B[0m \u001B[38;5;28;01mif\u001B[39;00m exception_only:\n\u001B[0;32m   2143\u001B[0m     stb \u001B[38;5;241m=\u001B[39m [\u001B[38;5;124m'\u001B[39m\u001B[38;5;124mAn exception has occurred, use \u001B[39m\u001B[38;5;124m%\u001B[39m\u001B[38;5;124mtb to see \u001B[39m\u001B[38;5;124m'\u001B[39m\n\u001B[0;32m   2144\u001B[0m            \u001B[38;5;124m'\u001B[39m\u001B[38;5;124mthe full traceback.\u001B[39m\u001B[38;5;130;01m\\n\u001B[39;00m\u001B[38;5;124m'\u001B[39m]\n\u001B[1;32m-> 2145\u001B[0m     stb\u001B[38;5;241m.\u001B[39mextend(\u001B[38;5;28;43mself\u001B[39;49m\u001B[38;5;241;43m.\u001B[39;49m\u001B[43mInteractiveTB\u001B[49m\u001B[38;5;241;43m.\u001B[39;49m\u001B[43mget_exception_only\u001B[49m\u001B[43m(\u001B[49m\u001B[43metype\u001B[49m\u001B[43m,\u001B[49m\n\u001B[0;32m   2146\u001B[0m \u001B[43m                                                     \u001B[49m\u001B[43mvalue\u001B[49m\u001B[43m)\u001B[49m)\n\u001B[0;32m   2147\u001B[0m \u001B[38;5;28;01melse\u001B[39;00m:\n\u001B[0;32m   2149\u001B[0m     \u001B[38;5;28;01mdef\u001B[39;00m \u001B[38;5;21mcontains_exceptiongroup\u001B[39m(val):\n",
      "File \u001B[1;32mF:\\STMixer_lib\\lib\\site-packages\\IPython\\core\\ultratb.py:710\u001B[0m, in \u001B[0;36mListTB.get_exception_only\u001B[1;34m(self, etype, value)\u001B[0m\n\u001B[0;32m    702\u001B[0m \u001B[38;5;28;01mdef\u001B[39;00m \u001B[38;5;21mget_exception_only\u001B[39m(\u001B[38;5;28mself\u001B[39m, etype, value):\n\u001B[0;32m    703\u001B[0m \u001B[38;5;250m    \u001B[39m\u001B[38;5;124;03m\"\"\"Only print the exception type and message, without a traceback.\u001B[39;00m\n\u001B[0;32m    704\u001B[0m \n\u001B[0;32m    705\u001B[0m \u001B[38;5;124;03m    Parameters\u001B[39;00m\n\u001B[1;32m   (...)\u001B[0m\n\u001B[0;32m    708\u001B[0m \u001B[38;5;124;03m    value : exception value\u001B[39;00m\n\u001B[0;32m    709\u001B[0m \u001B[38;5;124;03m    \"\"\"\u001B[39;00m\n\u001B[1;32m--> 710\u001B[0m     \u001B[38;5;28;01mreturn\u001B[39;00m \u001B[43mListTB\u001B[49m\u001B[38;5;241;43m.\u001B[39;49m\u001B[43mstructured_traceback\u001B[49m\u001B[43m(\u001B[49m\u001B[38;5;28;43mself\u001B[39;49m\u001B[43m,\u001B[49m\u001B[43m \u001B[49m\u001B[43metype\u001B[49m\u001B[43m,\u001B[49m\u001B[43m \u001B[49m\u001B[43mvalue\u001B[49m\u001B[43m)\u001B[49m\n",
      "File \u001B[1;32mF:\\STMixer_lib\\lib\\site-packages\\IPython\\core\\ultratb.py:568\u001B[0m, in \u001B[0;36mListTB.structured_traceback\u001B[1;34m(self, etype, evalue, etb, tb_offset, context)\u001B[0m\n\u001B[0;32m    565\u001B[0m     chained_exc_ids\u001B[38;5;241m.\u001B[39madd(\u001B[38;5;28mid\u001B[39m(exception[\u001B[38;5;241m1\u001B[39m]))\n\u001B[0;32m    566\u001B[0m     chained_exceptions_tb_offset \u001B[38;5;241m=\u001B[39m \u001B[38;5;241m0\u001B[39m\n\u001B[0;32m    567\u001B[0m     out_list \u001B[38;5;241m=\u001B[39m (\n\u001B[1;32m--> 568\u001B[0m         \u001B[38;5;28;43mself\u001B[39;49m\u001B[38;5;241;43m.\u001B[39;49m\u001B[43mstructured_traceback\u001B[49m\u001B[43m(\u001B[49m\n\u001B[0;32m    569\u001B[0m \u001B[43m            \u001B[49m\u001B[43metype\u001B[49m\u001B[43m,\u001B[49m\n\u001B[0;32m    570\u001B[0m \u001B[43m            \u001B[49m\u001B[43mevalue\u001B[49m\u001B[43m,\u001B[49m\n\u001B[0;32m    571\u001B[0m \u001B[43m            \u001B[49m\u001B[43m(\u001B[49m\u001B[43metb\u001B[49m\u001B[43m,\u001B[49m\u001B[43m \u001B[49m\u001B[43mchained_exc_ids\u001B[49m\u001B[43m)\u001B[49m\u001B[43m,\u001B[49m\u001B[43m  \u001B[49m\u001B[38;5;66;43;03m# type: ignore\u001B[39;49;00m\n\u001B[0;32m    572\u001B[0m \u001B[43m            \u001B[49m\u001B[43mchained_exceptions_tb_offset\u001B[49m\u001B[43m,\u001B[49m\n\u001B[0;32m    573\u001B[0m \u001B[43m            \u001B[49m\u001B[43mcontext\u001B[49m\u001B[43m,\u001B[49m\n\u001B[0;32m    574\u001B[0m \u001B[43m        \u001B[49m\u001B[43m)\u001B[49m\n\u001B[0;32m    575\u001B[0m         \u001B[38;5;241m+\u001B[39m chained_exception_message\n\u001B[0;32m    576\u001B[0m         \u001B[38;5;241m+\u001B[39m out_list)\n\u001B[0;32m    578\u001B[0m \u001B[38;5;28;01mreturn\u001B[39;00m out_list\n",
      "File \u001B[1;32mF:\\STMixer_lib\\lib\\site-packages\\IPython\\core\\ultratb.py:1454\u001B[0m, in \u001B[0;36mAutoFormattedTB.structured_traceback\u001B[1;34m(self, etype, evalue, etb, tb_offset, number_of_lines_of_context)\u001B[0m\n\u001B[0;32m   1452\u001B[0m \u001B[38;5;28;01melse\u001B[39;00m:\n\u001B[0;32m   1453\u001B[0m     \u001B[38;5;28mself\u001B[39m\u001B[38;5;241m.\u001B[39mtb \u001B[38;5;241m=\u001B[39m etb\n\u001B[1;32m-> 1454\u001B[0m \u001B[38;5;28;01mreturn\u001B[39;00m \u001B[43mFormattedTB\u001B[49m\u001B[38;5;241;43m.\u001B[39;49m\u001B[43mstructured_traceback\u001B[49m\u001B[43m(\u001B[49m\n\u001B[0;32m   1455\u001B[0m \u001B[43m    \u001B[49m\u001B[38;5;28;43mself\u001B[39;49m\u001B[43m,\u001B[49m\u001B[43m \u001B[49m\u001B[43metype\u001B[49m\u001B[43m,\u001B[49m\u001B[43m \u001B[49m\u001B[43mevalue\u001B[49m\u001B[43m,\u001B[49m\u001B[43m \u001B[49m\u001B[43metb\u001B[49m\u001B[43m,\u001B[49m\u001B[43m \u001B[49m\u001B[43mtb_offset\u001B[49m\u001B[43m,\u001B[49m\u001B[43m \u001B[49m\u001B[43mnumber_of_lines_of_context\u001B[49m\n\u001B[0;32m   1456\u001B[0m \u001B[43m\u001B[49m\u001B[43m)\u001B[49m\n",
      "File \u001B[1;32mF:\\STMixer_lib\\lib\\site-packages\\IPython\\core\\ultratb.py:1345\u001B[0m, in \u001B[0;36mFormattedTB.structured_traceback\u001B[1;34m(self, etype, value, tb, tb_offset, number_of_lines_of_context)\u001B[0m\n\u001B[0;32m   1342\u001B[0m mode \u001B[38;5;241m=\u001B[39m \u001B[38;5;28mself\u001B[39m\u001B[38;5;241m.\u001B[39mmode\n\u001B[0;32m   1343\u001B[0m \u001B[38;5;28;01mif\u001B[39;00m mode \u001B[38;5;129;01min\u001B[39;00m \u001B[38;5;28mself\u001B[39m\u001B[38;5;241m.\u001B[39mverbose_modes:\n\u001B[0;32m   1344\u001B[0m     \u001B[38;5;66;03m# Verbose modes need a full traceback\u001B[39;00m\n\u001B[1;32m-> 1345\u001B[0m     \u001B[38;5;28;01mreturn\u001B[39;00m \u001B[43mVerboseTB\u001B[49m\u001B[38;5;241;43m.\u001B[39;49m\u001B[43mstructured_traceback\u001B[49m\u001B[43m(\u001B[49m\n\u001B[0;32m   1346\u001B[0m \u001B[43m        \u001B[49m\u001B[38;5;28;43mself\u001B[39;49m\u001B[43m,\u001B[49m\u001B[43m \u001B[49m\u001B[43metype\u001B[49m\u001B[43m,\u001B[49m\u001B[43m \u001B[49m\u001B[43mvalue\u001B[49m\u001B[43m,\u001B[49m\u001B[43m \u001B[49m\u001B[43mtb\u001B[49m\u001B[43m,\u001B[49m\u001B[43m \u001B[49m\u001B[43mtb_offset\u001B[49m\u001B[43m,\u001B[49m\u001B[43m \u001B[49m\u001B[43mnumber_of_lines_of_context\u001B[49m\n\u001B[0;32m   1347\u001B[0m \u001B[43m    \u001B[49m\u001B[43m)\u001B[49m\n\u001B[0;32m   1348\u001B[0m \u001B[38;5;28;01melif\u001B[39;00m mode \u001B[38;5;241m==\u001B[39m \u001B[38;5;124m'\u001B[39m\u001B[38;5;124mMinimal\u001B[39m\u001B[38;5;124m'\u001B[39m:\n\u001B[0;32m   1349\u001B[0m     \u001B[38;5;28;01mreturn\u001B[39;00m ListTB\u001B[38;5;241m.\u001B[39mget_exception_only(\u001B[38;5;28mself\u001B[39m, etype, value)\n",
      "File \u001B[1;32mF:\\STMixer_lib\\lib\\site-packages\\IPython\\core\\ultratb.py:1192\u001B[0m, in \u001B[0;36mVerboseTB.structured_traceback\u001B[1;34m(self, etype, evalue, etb, tb_offset, number_of_lines_of_context)\u001B[0m\n\u001B[0;32m   1183\u001B[0m \u001B[38;5;28;01mdef\u001B[39;00m \u001B[38;5;21mstructured_traceback\u001B[39m(\n\u001B[0;32m   1184\u001B[0m     \u001B[38;5;28mself\u001B[39m,\n\u001B[0;32m   1185\u001B[0m     etype: \u001B[38;5;28mtype\u001B[39m,\n\u001B[1;32m   (...)\u001B[0m\n\u001B[0;32m   1189\u001B[0m     number_of_lines_of_context: \u001B[38;5;28mint\u001B[39m \u001B[38;5;241m=\u001B[39m \u001B[38;5;241m5\u001B[39m,\n\u001B[0;32m   1190\u001B[0m ):\n\u001B[0;32m   1191\u001B[0m \u001B[38;5;250m    \u001B[39m\u001B[38;5;124;03m\"\"\"Return a nice text document describing the traceback.\"\"\"\u001B[39;00m\n\u001B[1;32m-> 1192\u001B[0m     formatted_exception \u001B[38;5;241m=\u001B[39m \u001B[38;5;28;43mself\u001B[39;49m\u001B[38;5;241;43m.\u001B[39;49m\u001B[43mformat_exception_as_a_whole\u001B[49m\u001B[43m(\u001B[49m\u001B[43metype\u001B[49m\u001B[43m,\u001B[49m\u001B[43m \u001B[49m\u001B[43mevalue\u001B[49m\u001B[43m,\u001B[49m\u001B[43m \u001B[49m\u001B[43metb\u001B[49m\u001B[43m,\u001B[49m\u001B[43m \u001B[49m\u001B[43mnumber_of_lines_of_context\u001B[49m\u001B[43m,\u001B[49m\n\u001B[0;32m   1193\u001B[0m \u001B[43m                                                           \u001B[49m\u001B[43mtb_offset\u001B[49m\u001B[43m)\u001B[49m\n\u001B[0;32m   1195\u001B[0m     colors \u001B[38;5;241m=\u001B[39m \u001B[38;5;28mself\u001B[39m\u001B[38;5;241m.\u001B[39mColors  \u001B[38;5;66;03m# just a shorthand + quicker name lookup\u001B[39;00m\n\u001B[0;32m   1196\u001B[0m     colorsnormal \u001B[38;5;241m=\u001B[39m colors\u001B[38;5;241m.\u001B[39mNormal  \u001B[38;5;66;03m# used a lot\u001B[39;00m\n",
      "File \u001B[1;32mF:\\STMixer_lib\\lib\\site-packages\\IPython\\core\\ultratb.py:1082\u001B[0m, in \u001B[0;36mVerboseTB.format_exception_as_a_whole\u001B[1;34m(self, etype, evalue, etb, number_of_lines_of_context, tb_offset)\u001B[0m\n\u001B[0;32m   1079\u001B[0m \u001B[38;5;28;01massert\u001B[39;00m \u001B[38;5;28misinstance\u001B[39m(tb_offset, \u001B[38;5;28mint\u001B[39m)\n\u001B[0;32m   1080\u001B[0m head \u001B[38;5;241m=\u001B[39m \u001B[38;5;28mself\u001B[39m\u001B[38;5;241m.\u001B[39mprepare_header(\u001B[38;5;28mstr\u001B[39m(etype), \u001B[38;5;28mself\u001B[39m\u001B[38;5;241m.\u001B[39mlong_header)\n\u001B[0;32m   1081\u001B[0m records \u001B[38;5;241m=\u001B[39m (\n\u001B[1;32m-> 1082\u001B[0m     \u001B[38;5;28;43mself\u001B[39;49m\u001B[38;5;241;43m.\u001B[39;49m\u001B[43mget_records\u001B[49m\u001B[43m(\u001B[49m\u001B[43metb\u001B[49m\u001B[43m,\u001B[49m\u001B[43m \u001B[49m\u001B[43mnumber_of_lines_of_context\u001B[49m\u001B[43m,\u001B[49m\u001B[43m \u001B[49m\u001B[43mtb_offset\u001B[49m\u001B[43m)\u001B[49m \u001B[38;5;28;01mif\u001B[39;00m etb \u001B[38;5;28;01melse\u001B[39;00m []\n\u001B[0;32m   1083\u001B[0m )\n\u001B[0;32m   1085\u001B[0m frames \u001B[38;5;241m=\u001B[39m []\n\u001B[0;32m   1086\u001B[0m skipped \u001B[38;5;241m=\u001B[39m \u001B[38;5;241m0\u001B[39m\n",
      "File \u001B[1;32mF:\\STMixer_lib\\lib\\site-packages\\IPython\\core\\ultratb.py:1150\u001B[0m, in \u001B[0;36mVerboseTB.get_records\u001B[1;34m(self, etb, number_of_lines_of_context, tb_offset)\u001B[0m\n\u001B[0;32m   1148\u001B[0m \u001B[38;5;28;01mwhile\u001B[39;00m cf \u001B[38;5;129;01mis\u001B[39;00m \u001B[38;5;129;01mnot\u001B[39;00m \u001B[38;5;28;01mNone\u001B[39;00m:\n\u001B[0;32m   1149\u001B[0m     \u001B[38;5;28;01mtry\u001B[39;00m:\n\u001B[1;32m-> 1150\u001B[0m         mod \u001B[38;5;241m=\u001B[39m inspect\u001B[38;5;241m.\u001B[39mgetmodule(\u001B[43mcf\u001B[49m\u001B[38;5;241;43m.\u001B[39;49m\u001B[43mtb_frame\u001B[49m)\n\u001B[0;32m   1151\u001B[0m         \u001B[38;5;28;01mif\u001B[39;00m mod \u001B[38;5;129;01mis\u001B[39;00m \u001B[38;5;129;01mnot\u001B[39;00m \u001B[38;5;28;01mNone\u001B[39;00m:\n\u001B[0;32m   1152\u001B[0m             mod_name \u001B[38;5;241m=\u001B[39m mod\u001B[38;5;241m.\u001B[39m\u001B[38;5;18m__name__\u001B[39m\n",
      "\u001B[1;31mAttributeError\u001B[0m: 'tuple' object has no attribute 'tb_frame'"
     ]
    }
   ],
   "source": [
    "n_frames = 0\n",
    "googlenet_model = FeatureExtractor()\n",
    "feature_bank = []\n",
    "summarize_args = init_helper.get_arguments()\n",
    "\n",
    "summarize_model = get_model(summarize_args.model, **vars(args))\n",
    "summarize_model = summarize_model.eval().to(summarize_args.device)\n",
    "state_dict = torch.load(summarize_args.ckpt_path,map_location=lambda storage, loc: storage)\n",
    "summarize_model.load_state_dict(state_dict)\n",
    "\n",
    "\n",
    "for frame in frame_list:\n",
    "    n_frames += 1\n",
    "    if n_frames % sample_rate == 0:\n",
    "        frame = cv2.cvtColor(frame, cv2.COLOR_BGR2RGB)\n",
    "        feature = googlenet_model.run(frame)\n",
    "        feature_bank.append(feature)\n",
    "\n",
    "feature_bank = np.array(feature_bank)\n",
    "cps, nfps, picks = kts(n_frames, feature_bank, sample_rate)\n",
    "\n",
    "seq_len = len(feature_bank)\n",
    "\n",
    "with torch.no_grad():\n",
    "    seq_torch = torch.from_numpy(feature_bank).unsqueeze(0).to(\"cuda\")\n",
    "\n",
    "    pred_cls, pred_bboxes = summarize_model.predict(seq_torch)\n",
    "\n",
    "    pred_bboxes = np.clip(pred_bboxes, 0, seq_len).round().astype(np.int32)\n",
    "\n",
    "    pred_cls, pred_bboxes = bbox_helper.nms(pred_cls, pred_bboxes, args.nms_thresh)\n",
    "    pred_summ = vsumm_helper.bbox2summary(\n",
    "        seq_len, pred_cls, pred_bboxes, cps, n_frames, nfps, picks)\n",
    "\n",
    "cap = cv2.VideoCapture(args.source)\n",
    "width = int(cap.get(cv2.CAP_PROP_FRAME_WIDTH))\n",
    "height = int(cap.get(cv2.CAP_PROP_FRAME_HEIGHT))\n",
    "fps = cap.get(cv2.CAP_PROP_FPS)\n",
    "\n",
    "fourcc = cv2.VideoWriter_fourcc(*'mp4v')\n",
    "out = cv2.VideoWriter(args.save_path, fourcc, fps, (width, height))\n",
    "\n",
    "frame_idx = 0\n",
    "while True:\n",
    "    ret, frame = cap.read()\n",
    "    if not ret:\n",
    "        break\n",
    "\n",
    "    if pred_summ[frame_idx]:\n",
    "        out.write(frame)\n",
    "\n",
    "    frame_idx += 1\n",
    "\n",
    "out.release()\n",
    "cap.release()\n"
   ],
   "metadata": {
    "collapsed": false,
    "ExecuteTime": {
     "end_time": "2024-07-09T16:31:28.944757Z",
     "start_time": "2024-07-09T16:31:28.483703Z"
    }
   },
   "id": "9b9bd316b6c60ba8",
   "execution_count": 20
  },
  {
   "cell_type": "code",
   "outputs": [],
   "source": [],
   "metadata": {
    "collapsed": false,
    "ExecuteTime": {
     "end_time": "2024-07-09T16:18:24.128412Z",
     "start_time": "2024-07-09T16:18:24.113407Z"
    }
   },
   "id": "6c778117959f21bb",
   "execution_count": 13
  },
  {
   "cell_type": "code",
   "outputs": [],
   "source": [],
   "metadata": {
    "collapsed": false
   },
   "id": "8842fa76a830b1c1"
  },
  {
   "cell_type": "code",
   "outputs": [],
   "source": [],
   "metadata": {
    "collapsed": false,
    "ExecuteTime": {
     "end_time": "2024-07-09T16:18:25.657929Z",
     "start_time": "2024-07-09T16:18:25.649241Z"
    }
   },
   "id": "5484602a286efbc",
   "execution_count": 13
  },
  {
   "cell_type": "code",
   "outputs": [],
   "source": [],
   "metadata": {
    "collapsed": false
   },
   "id": "e6340b15799148ad"
  }
 ],
 "metadata": {
  "kernelspec": {
   "display_name": "Python 3",
   "language": "python",
   "name": "python3"
  },
  "language_info": {
   "codemirror_mode": {
    "name": "ipython",
    "version": 2
   },
   "file_extension": ".py",
   "mimetype": "text/x-python",
   "name": "python",
   "nbconvert_exporter": "python",
   "pygments_lexer": "ipython2",
   "version": "2.7.6"
  }
 },
 "nbformat": 4,
 "nbformat_minor": 5
}
